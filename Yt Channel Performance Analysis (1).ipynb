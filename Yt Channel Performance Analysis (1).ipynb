{
 "cells": [
  {
   "cell_type": "code",
   "execution_count": 1,
   "id": "bd62c652-c399-4b86-a869-a861431fa076",
   "metadata": {
    "tags": []
   },
   "outputs": [],
   "source": [
    "# importing all the required libraries\n",
    "import pandas as pd\n",
    "from matplotlib import pyplot as plt"
   ]
  },
  {
   "cell_type": "code",
   "execution_count": 4,
   "id": "01b90456-61d9-4f03-b572-a03154ee1e33",
   "metadata": {
    "tags": []
   },
   "outputs": [],
   "source": [
    "# importing the csv file containing YT channel data\n",
    "chdata = pd.read_csv('dia_ytchannel.csv')"
   ]
  },
  {
   "cell_type": "code",
   "execution_count": 5,
   "id": "f47f942e-eb74-4b14-af39-b83d8f042f4a",
   "metadata": {
    "tags": []
   },
   "outputs": [
    {
     "data": {
      "text/html": [
       "<div>\n",
       "<style scoped>\n",
       "    .dataframe tbody tr th:only-of-type {\n",
       "        vertical-align: middle;\n",
       "    }\n",
       "\n",
       "    .dataframe tbody tr th {\n",
       "        vertical-align: top;\n",
       "    }\n",
       "\n",
       "    .dataframe thead th {\n",
       "        text-align: right;\n",
       "    }\n",
       "</style>\n",
       "<table border=\"1\" class=\"dataframe\">\n",
       "  <thead>\n",
       "    <tr style=\"text-align: right;\">\n",
       "      <th></th>\n",
       "      <th>video_id</th>\n",
       "      <th>video_title</th>\n",
       "      <th>upload_date</th>\n",
       "      <th>view_count</th>\n",
       "      <th>like_count</th>\n",
       "      <th>dislike_count</th>\n",
       "      <th>comment_count</th>\n",
       "    </tr>\n",
       "  </thead>\n",
       "  <tbody>\n",
       "    <tr>\n",
       "      <th>0</th>\n",
       "      <td>LOWGBvcqinA</td>\n",
       "      <td>집에서 새벽 스터디윗미🌙자기 전 딱 1시간! 백색소음 Midnight study w...</td>\n",
       "      <td>2023-10-30</td>\n",
       "      <td>349847</td>\n",
       "      <td>8740</td>\n",
       "      <td>0</td>\n",
       "      <td>427</td>\n",
       "    </tr>\n",
       "    <tr>\n",
       "      <th>1</th>\n",
       "      <td>L0xhV-slGTQ</td>\n",
       "      <td>Eng) 의대생 Vlog | 국가고시 실기시험을 위한 한 달간의 노력과 역대급 스트...</td>\n",
       "      <td>2023-10-06</td>\n",
       "      <td>251554</td>\n",
       "      <td>13177</td>\n",
       "      <td>0</td>\n",
       "      <td>856</td>\n",
       "    </tr>\n",
       "    <tr>\n",
       "      <th>2</th>\n",
       "      <td>8gPNOIgREk8</td>\n",
       "      <td>잘 쉬었으니 이제 공부해야지(요)? D-?? 의대생 스터디윗미 | 도서관에서 같이 ...</td>\n",
       "      <td>2023-10-03</td>\n",
       "      <td>134825</td>\n",
       "      <td>4541</td>\n",
       "      <td>0</td>\n",
       "      <td>227</td>\n",
       "    </tr>\n",
       "    <tr>\n",
       "      <th>3</th>\n",
       "      <td>ytoQF_UfsiA</td>\n",
       "      <td>Eng) 의대생vlog | 방학 없이 태풍 뚫고 학교로,,,오늘도 찢었다🫠 시험기간...</td>\n",
       "      <td>2023-09-22</td>\n",
       "      <td>336728</td>\n",
       "      <td>16392</td>\n",
       "      <td>0</td>\n",
       "      <td>1502</td>\n",
       "    </tr>\n",
       "    <tr>\n",
       "      <th>4</th>\n",
       "      <td>M6BXqpIO73g</td>\n",
       "      <td>월화수목금토일 공부❤‍🔥한 달 같은 seven days a week~ #의대생 #브...</td>\n",
       "      <td>2023-08-07</td>\n",
       "      <td>89259</td>\n",
       "      <td>8501</td>\n",
       "      <td>0</td>\n",
       "      <td>215</td>\n",
       "    </tr>\n",
       "  </tbody>\n",
       "</table>\n",
       "</div>"
      ],
      "text/plain": [
       "      video_id                                        video_title upload_date  \\\n",
       "0  LOWGBvcqinA  집에서 새벽 스터디윗미🌙자기 전 딱 1시간! 백색소음 Midnight study w...  2023-10-30   \n",
       "1  L0xhV-slGTQ  Eng) 의대생 Vlog | 국가고시 실기시험을 위한 한 달간의 노력과 역대급 스트...  2023-10-06   \n",
       "2  8gPNOIgREk8  잘 쉬었으니 이제 공부해야지(요)? D-?? 의대생 스터디윗미 | 도서관에서 같이 ...  2023-10-03   \n",
       "3  ytoQF_UfsiA  Eng) 의대생vlog | 방학 없이 태풍 뚫고 학교로,,,오늘도 찢었다🫠 시험기간...  2023-09-22   \n",
       "4  M6BXqpIO73g  월화수목금토일 공부❤‍🔥한 달 같은 seven days a week~ #의대생 #브...  2023-08-07   \n",
       "\n",
       "   view_count  like_count  dislike_count  comment_count  \n",
       "0      349847        8740              0            427  \n",
       "1      251554       13177              0            856  \n",
       "2      134825        4541              0            227  \n",
       "3      336728       16392              0           1502  \n",
       "4       89259        8501              0            215  "
      ]
     },
     "execution_count": 5,
     "metadata": {},
     "output_type": "execute_result"
    }
   ],
   "source": [
    "# eyeballing the dataframe to see what type of data do we have\n",
    "chdata.head(5)"
   ]
  },
  {
   "cell_type": "code",
   "execution_count": 6,
   "id": "4031ed1f-828c-4dcf-8b05-bf5979af0bc3",
   "metadata": {
    "tags": []
   },
   "outputs": [
    {
     "name": "stdout",
     "output_type": "stream",
     "text": [
      "<class 'pandas.core.frame.DataFrame'>\n",
      "RangeIndex: 48 entries, 0 to 47\n",
      "Data columns (total 7 columns):\n",
      " #   Column         Non-Null Count  Dtype \n",
      "---  ------         --------------  ----- \n",
      " 0   video_id       48 non-null     object\n",
      " 1   video_title    48 non-null     object\n",
      " 2   upload_date    48 non-null     object\n",
      " 3   view_count     48 non-null     int64 \n",
      " 4   like_count     48 non-null     int64 \n",
      " 5   dislike_count  48 non-null     int64 \n",
      " 6   comment_count  48 non-null     int64 \n",
      "dtypes: int64(4), object(3)\n",
      "memory usage: 2.8+ KB\n"
     ]
    }
   ],
   "source": [
    "# gathering more information regarding the data stored in the dataframe\n",
    "chdata.info()"
   ]
  },
  {
   "cell_type": "code",
   "execution_count": 9,
   "id": "5746bede-f28c-4e01-8c88-2f388ef68032",
   "metadata": {
    "tags": []
   },
   "outputs": [],
   "source": [
    "# correcting the data type for upload_date\n",
    "chdata['upload_date'] = pd.to_datetime(chdata['upload_date'])"
   ]
  },
  {
   "cell_type": "code",
   "execution_count": 10,
   "id": "10b35183-1790-45ea-a9f3-8ba00a2f92a1",
   "metadata": {
    "tags": []
   },
   "outputs": [
    {
     "name": "stdout",
     "output_type": "stream",
     "text": [
      "<class 'pandas.core.frame.DataFrame'>\n",
      "RangeIndex: 48 entries, 0 to 47\n",
      "Data columns (total 7 columns):\n",
      " #   Column         Non-Null Count  Dtype         \n",
      "---  ------         --------------  -----         \n",
      " 0   video_id       48 non-null     object        \n",
      " 1   video_title    48 non-null     object        \n",
      " 2   upload_date    48 non-null     datetime64[ns]\n",
      " 3   view_count     48 non-null     int64         \n",
      " 4   like_count     48 non-null     int64         \n",
      " 5   dislike_count  48 non-null     int64         \n",
      " 6   comment_count  48 non-null     int64         \n",
      "dtypes: datetime64[ns](1), int64(4), object(2)\n",
      "memory usage: 2.8+ KB\n"
     ]
    }
   ],
   "source": [
    "# checking to see if data type has been changed\n",
    "chdata.info()"
   ]
  },
  {
   "cell_type": "code",
   "execution_count": 15,
   "id": "e8616670-697a-4be5-a3cb-8348ded9c6bf",
   "metadata": {
    "tags": []
   },
   "outputs": [
    {
     "data": {
      "text/plain": [
       "video_id         0\n",
       "video_title      0\n",
       "upload_date      0\n",
       "view_count       0\n",
       "like_count       0\n",
       "dislike_count    0\n",
       "comment_count    0\n",
       "dtype: int64"
      ]
     },
     "execution_count": 15,
     "metadata": {},
     "output_type": "execute_result"
    }
   ],
   "source": [
    "# checking for missing values\n",
    "chdata.isnull().sum()\n",
    "# no missing values"
   ]
  },
  {
   "cell_type": "code",
   "execution_count": 17,
   "id": "e08ed2f1-165c-4ffa-8278-e04c692adf9b",
   "metadata": {
    "tags": []
   },
   "outputs": [],
   "source": [
    "# beginning analysis by calculating the engagement rate\n",
    "chdata['engagement_rate'] = (chdata['like_count'] + chdata['dislike_count'] + chdata['comment_count']) / chdata['like_count']"
   ]
  },
  {
   "cell_type": "code",
   "execution_count": 28,
   "id": "d0ad68f9-dc33-436e-b8d0-fa14a46bd473",
   "metadata": {
    "tags": []
   },
   "outputs": [
    {
     "data": {
      "image/png": "[encoded data removed]",
      "text/plain": [
       "<Figure size 1000x600 with 1 Axes>"
      ]
     },
     "metadata": {},
     "output_type": "display_data"
    }
   ],
   "source": [
    "# plotting a line plot for the engagement rate over time\n",
    "plt.figure(figsize=(10,6))\n",
    "plt.plot(chdata['upload_date'],chdata['engagement_rate'], linestyle = '-')\n",
    "plt.title('Engagement Rate Over Time')\n",
    "plt.xlabel('Upload Date')\n",
    "plt.ylabel('Engagement Rate')\n",
    "plt.grid(True)\n",
    "plt.show()"
   ]
  },
  {
   "cell_type": "code",
   "execution_count": 37,
   "id": "859289b0-f8da-42dc-9106-7aee33ba1652",
   "metadata": {
    "tags": []
   },
   "outputs": [
    {
     "data": {
      "text/html": [
       "<div>\n",
       "<style scoped>\n",
       "    .dataframe tbody tr th:only-of-type {\n",
       "        vertical-align: middle;\n",
       "    }\n",
       "\n",
       "    .dataframe tbody tr th {\n",
       "        vertical-align: top;\n",
       "    }\n",
       "\n",
       "    .dataframe thead th {\n",
       "        text-align: right;\n",
       "    }\n",
       "</style>\n",
       "<table border=\"1\" class=\"dataframe\">\n",
       "  <thead>\n",
       "    <tr style=\"text-align: right;\">\n",
       "      <th></th>\n",
       "      <th>video_title</th>\n",
       "      <th>upload_date</th>\n",
       "      <th>engagement_rate</th>\n",
       "      <th>view_count</th>\n",
       "    </tr>\n",
       "  </thead>\n",
       "  <tbody>\n",
       "    <tr>\n",
       "      <th>36</th>\n",
       "      <td>Sub) 의대생Vlog: 본과 2학년 여유로운 공부, 네컷일기, MBTI, 헌혈, ...</td>\n",
       "      <td>2021-07-23</td>\n",
       "      <td>1.114698</td>\n",
       "      <td>358305</td>\n",
       "    </tr>\n",
       "    <tr>\n",
       "      <th>34</th>\n",
       "      <td>(Eng) 의대생Vlog | 개강이 코앞이쟈나😢 아이패드노트필기 정리, 드디어 운전...</td>\n",
       "      <td>2021-08-28</td>\n",
       "      <td>1.093055</td>\n",
       "      <td>495101</td>\n",
       "    </tr>\n",
       "    <tr>\n",
       "      <th>3</th>\n",
       "      <td>Eng) 의대생vlog | 방학 없이 태풍 뚫고 학교로,,,오늘도 찢었다🫠 시험기간...</td>\n",
       "      <td>2023-09-22</td>\n",
       "      <td>1.091630</td>\n",
       "      <td>336728</td>\n",
       "    </tr>\n",
       "    <tr>\n",
       "      <th>37</th>\n",
       "      <td>Sub) 의대생Vlog | 본과2학년 1학기 마지막까지 밤샘 시험공부 - 안과, 이...</td>\n",
       "      <td>2021-07-10</td>\n",
       "      <td>1.089296</td>\n",
       "      <td>711937</td>\n",
       "    </tr>\n",
       "    <tr>\n",
       "      <th>15</th>\n",
       "      <td>Eng) 의대생 Vlog | 본과3학년, 하루 4시간 수면은 사치 그 잡채☠열심히 ...</td>\n",
       "      <td>2022-10-07</td>\n",
       "      <td>1.069789</td>\n",
       "      <td>584903</td>\n",
       "    </tr>\n",
       "    <tr>\n",
       "      <th>5</th>\n",
       "      <td>Eng) 의대생vlog | 본과4학년 발등에 불똥 떨어진 중간고사 시험기간🔥효율적인...</td>\n",
       "      <td>2023-05-04</td>\n",
       "      <td>1.067484</td>\n",
       "      <td>627528</td>\n",
       "    </tr>\n",
       "    <tr>\n",
       "      <th>24</th>\n",
       "      <td>Eng) 의대생Vlog | 매일매일 새 역사를 썼던 5일👩‍⚕️9am~6pm강의네버...</td>\n",
       "      <td>2022-01-09</td>\n",
       "      <td>1.067224</td>\n",
       "      <td>635055</td>\n",
       "    </tr>\n",
       "    <tr>\n",
       "      <th>39</th>\n",
       "      <td>Eng) 의대생vlog: 본과2학년 산넘어 산 시험공부 벼락치기, 물리치료 투혼😣 ...</td>\n",
       "      <td>2021-05-30</td>\n",
       "      <td>1.066982</td>\n",
       "      <td>927652</td>\n",
       "    </tr>\n",
       "    <tr>\n",
       "      <th>38</th>\n",
       "      <td>Eng) 의대생vlog | 본과2학년 공부 마라톤 달리는 신경계🧠 시험기간 브이로그...</td>\n",
       "      <td>2021-06-26</td>\n",
       "      <td>1.065712</td>\n",
       "      <td>998629</td>\n",
       "    </tr>\n",
       "    <tr>\n",
       "      <th>45</th>\n",
       "      <td>Eng) 의대생 Vlog: 본과2학년 개강준비- 공부/복습, 등산, 네컷일기, 사자...</td>\n",
       "      <td>2021-02-23</td>\n",
       "      <td>1.065400</td>\n",
       "      <td>797165</td>\n",
       "    </tr>\n",
       "  </tbody>\n",
       "</table>\n",
       "</div>"
      ],
      "text/plain": [
       "                                          video_title upload_date  \\\n",
       "36  Sub) 의대생Vlog: 본과 2학년 여유로운 공부, 네컷일기, MBTI, 헌혈, ...  2021-07-23   \n",
       "34  (Eng) 의대생Vlog | 개강이 코앞이쟈나😢 아이패드노트필기 정리, 드디어 운전...  2021-08-28   \n",
       "3   Eng) 의대생vlog | 방학 없이 태풍 뚫고 학교로,,,오늘도 찢었다🫠 시험기간...  2023-09-22   \n",
       "37  Sub) 의대생Vlog | 본과2학년 1학기 마지막까지 밤샘 시험공부 - 안과, 이...  2021-07-10   \n",
       "15  Eng) 의대생 Vlog | 본과3학년, 하루 4시간 수면은 사치 그 잡채☠열심히 ...  2022-10-07   \n",
       "5   Eng) 의대생vlog | 본과4학년 발등에 불똥 떨어진 중간고사 시험기간🔥효율적인...  2023-05-04   \n",
       "24  Eng) 의대생Vlog | 매일매일 새 역사를 썼던 5일👩‍⚕️9am~6pm강의네버...  2022-01-09   \n",
       "39  Eng) 의대생vlog: 본과2학년 산넘어 산 시험공부 벼락치기, 물리치료 투혼😣 ...  2021-05-30   \n",
       "38  Eng) 의대생vlog | 본과2학년 공부 마라톤 달리는 신경계🧠 시험기간 브이로그...  2021-06-26   \n",
       "45  Eng) 의대생 Vlog: 본과2학년 개강준비- 공부/복습, 등산, 네컷일기, 사자...  2021-02-23   \n",
       "\n",
       "    engagement_rate  view_count  \n",
       "36         1.114698      358305  \n",
       "34         1.093055      495101  \n",
       "3          1.091630      336728  \n",
       "37         1.089296      711937  \n",
       "15         1.069789      584903  \n",
       "5          1.067484      627528  \n",
       "24         1.067224      635055  \n",
       "39         1.066982      927652  \n",
       "38         1.065712      998629  \n",
       "45         1.065400      797165  "
      ]
     },
     "execution_count": 37,
     "metadata": {},
     "output_type": "execute_result"
    }
   ],
   "source": [
    "# figuring out the top performing videos based on engagement rate\n",
    "top_videos = chdata.nlargest(10,'engagement_rate')\n",
    "top_videos[['video_title','upload_date','engagement_rate','view_count']]"
   ]
  },
  {
   "cell_type": "code",
   "execution_count": 46,
   "id": "9ac2c42e-7b27-484a-9a0d-e30304e71227",
   "metadata": {
    "tags": []
   },
   "outputs": [
    {
     "data": {
      "text/plain": [
       "(75002, 1653806, 1.0483292746878592)"
      ]
     },
     "execution_count": 46,
     "metadata": {},
     "output_type": "execute_result"
    }
   ],
   "source": [
    "# calculating summary statistics\n",
    "avg_engagement_rate = chdata['engagement_rate'].mean()\n",
    "total_comments = chdata['comment_count'].sum()\n",
    "total_likes = chdata['like_count'].sum()\n",
    "total_comments, total_likes, avg_engagement_rate "
   ]
  },
  {
   "cell_type": "code",
   "execution_count": null,
   "id": "e98f4e08-0b44-496a-b576-6ab087cc8605",
   "metadata": {},
   "outputs": [],
   "source": []
  },
  {
   "cell_type": "code",
   "execution_count": null,
   "id": "a78a64b7-5e0e-45c5-b933-1b80ef99b2b1",
   "metadata": {},
   "outputs": [],
   "source": []
  }
 ],
 "metadata": {
  "kernelspec": {
   "display_name": "Python 3 (ipykernel)",
   "language": "python",
   "name": "python3"
  },
  "language_info": {
   "codemirror_mode": {
    "name": "ipython",
    "version": 3
   },
   "file_extension": ".py",
   "mimetype": "text/x-python",
   "name": "python",
   "nbconvert_exporter": "python",
   "pygments_lexer": "ipython3",
   "version": "3.11.4"
  }
 },
 "nbformat": 4,
 "nbformat_minor": 5
}
